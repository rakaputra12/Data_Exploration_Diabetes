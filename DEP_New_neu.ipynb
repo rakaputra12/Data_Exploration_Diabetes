{
  "cells": [
    {
      "cell_type": "markdown",
      "metadata": {
        "id": "view-in-github",
        "colab_type": "text"
      },
      "source": [
        "<a href=\"https://colab.research.google.com/github/rakaputra12/Data_Exploration_Diabetes/blob/main/DEP_New_neu.ipynb\" target=\"_parent\"><img src=\"https://colab.research.google.com/assets/colab-badge.svg\" alt=\"Open In Colab\"/></a>"
      ]
    },
    {
      "cell_type": "code",
      "source": [
        "# Install Dependencies\n",
        "\n",
        "#!pip install pandas\n",
        "#!pip install numpy\n",
        "#!pip install scikit-learn\n",
        "#!pip install matplotlib\n",
        "#!pip install mlflow\n",
        "#!pip install seaborn\n",
        "#!pip install mlxtend\n",
        "#!pip install graphviz"
      ],
      "outputs": [],
      "execution_count": null,
      "metadata": {
        "id": "WguKzgM7G7d_",
        "gather": {
          "logged": 1711906219284
        }
      }
    },
    {
      "cell_type": "code",
      "source": [
        "import pandas as pd\n",
        "import numpy as np\n",
        "import seaborn as sns\n",
        "sns.set()\n",
        "import matplotlib.pyplot as plt\n",
        "from mlxtend.plotting import plot_decision_regions\n",
        "from sklearn.metrics import accuracy_score\n",
        "\n",
        "\n",
        "%matplotlib inline"
      ],
      "outputs": [],
      "execution_count": null,
      "metadata": {
        "id": "aRlvgAd_unKi",
        "gather": {
          "logged": 1711906221422
        }
      }
    },
    {
      "cell_type": "markdown",
      "source": [
        "# **Auswahl Datensatz**"
      ],
      "metadata": {
        "id": "kTE2ZLv_Ldhf"
      }
    },
    {
      "cell_type": "markdown",
      "source": [
        "Hier wurde der Datensatz \"Diabetes\" ausgewählt."
      ],
      "metadata": {
        "id": "CCD3VJkiuPbf"
      }
    },
    {
      "cell_type": "code",
      "source": [
        "#Import Dataset\n",
        "dataset = \"https://raw.githubusercontent.com/rakaputra12/Data_Exploration_Diabetes/main/Healthcare-Diabetes.csv\"\n",
        "#dataset_local = \"Data_Exploration_Diabetes/Healthcare-Diabetes.csv\"\n",
        "diabetes_df = pd.read_csv(dataset)"
      ],
      "outputs": [],
      "execution_count": null,
      "metadata": {
        "id": "NG3V2w_jMaJp",
        "gather": {
          "logged": 1711906221529
        }
      }
    },
    {
      "cell_type": "code",
      "source": [
        "diabetes_df.head()"
      ],
      "outputs": [],
      "execution_count": null,
      "metadata": {
        "id": "Xdlm6-Fputcv",
        "gather": {
          "logged": 1711906222304
        }
      }
    },
    {
      "cell_type": "code",
      "source": [
        "#Delete the column \"Id\"\n",
        "diabetes_df = diabetes_df.drop('Id', axis=1)"
      ],
      "outputs": [],
      "execution_count": null,
      "metadata": {
        "id": "pczFMs0LuxuA",
        "gather": {
          "logged": 1711906223280
        }
      }
    },
    {
      "cell_type": "markdown",
      "source": [
        "# **Charakterisierung des Datensatzes**"
      ],
      "metadata": {
        "id": "5x74ba9hLmzL"
      }
    },
    {
      "cell_type": "code",
      "source": [
        "diabetes_df.columns"
      ],
      "outputs": [],
      "execution_count": null,
      "metadata": {
        "id": "7qekAqg4Ma0A",
        "gather": {
          "logged": 1711906224331
        }
      }
    },
    {
      "cell_type": "code",
      "source": [
        "diabetes_df.info()"
      ],
      "outputs": [],
      "execution_count": null,
      "metadata": {
        "id": "61gAIPDau4uW",
        "gather": {
          "logged": 1711906225293
        }
      }
    },
    {
      "cell_type": "code",
      "source": [
        "diabetes_df.describe()"
      ],
      "outputs": [],
      "execution_count": null,
      "metadata": {
        "id": "kd-1xQsFu7o7",
        "gather": {
          "logged": 1711906226497
        }
      }
    },
    {
      "cell_type": "code",
      "source": [
        "diabetes_df.describe().T"
      ],
      "outputs": [],
      "execution_count": null,
      "metadata": {
        "id": "BEnh52_6vEDh",
        "gather": {
          "logged": 1711906227331
        }
      }
    },
    {
      "cell_type": "code",
      "source": [
        "diabetes_df.isnull()"
      ],
      "outputs": [],
      "execution_count": null,
      "metadata": {
        "id": "Pssua-XlvEdR",
        "gather": {
          "logged": 1711906228435
        }
      }
    },
    {
      "cell_type": "code",
      "source": [
        "diabetes_df.isnull().sum()"
      ],
      "outputs": [],
      "execution_count": null,
      "metadata": {
        "id": "wsXmozhIvEpB",
        "gather": {
          "logged": 1711906229371
        }
      }
    },
    {
      "cell_type": "code",
      "source": [
        "zero_counts = (diabetes_df == 0).sum()"
      ],
      "outputs": [],
      "execution_count": null,
      "metadata": {
        "id": "y9F5g4lhvxny",
        "gather": {
          "logged": 1711906230288
        }
      }
    },
    {
      "cell_type": "code",
      "source": [
        "zero_counts"
      ],
      "outputs": [],
      "execution_count": null,
      "metadata": {
        "id": "vkwQk5Tev0XI",
        "gather": {
          "logged": 1711906231335
        }
      }
    },
    {
      "cell_type": "markdown",
      "source": [
        "On these columns, a value of zero does not make sense and thus indicates missing value\n",
        "\n",
        "Following columns or variables have an invalid zero value: Glucose, BloodPressure, SkinThickness, Insulin, BMI: it is better to replace zeros with NaN since after that counting them would be easier and zeros need to be replaced with suitable values. On the column like Pregnancies, a value of zero does make sense, cause someone can have never been pregnant. For the column \"Outcome\" is because the value for sufferer or not is only differentiated by one or zero."
      ],
      "metadata": {
        "id": "m-Gug8GLv8Y9"
      }
    },
    {
      "cell_type": "markdown",
      "source": [
        "In dem Fall kann es eigentlich nicht berücksichtigt werden. Dazu können aber negative Werte bei Heatmap liefern."
      ],
      "metadata": {
        "id": "tovu6ie0wqjN"
      }
    },
    {
      "cell_type": "markdown",
      "source": [
        "Oder hier kann ich einfach Zeile löschen, die Null Werte haben. so kann ich bei Metriks nicht so viel Gedanken machen.????"
      ],
      "metadata": {
        "id": "WTBD0vQaiKcj"
      }
    },
    {
      "cell_type": "code",
      "source": [
        "#Replace zeros with NaN Value\n",
        "diabetes_df_copy = diabetes_df.copy(deep = True)\n",
        "diabetes_df_copy[['Glucose', 'BloodPressure', 'SkinThickness', 'Insulin', 'BMI']] = diabetes_df_copy[['Glucose', 'BloodPressure', 'SkinThickness', 'Insulin', 'BMI']].replace(0,np.NaN)\n",
        "\n",
        "#Showing the Count of NaNs\n",
        "print(diabetes_df_copy.isnull().sum())"
      ],
      "outputs": [],
      "execution_count": null,
      "metadata": {
        "id": "q_CUIZwExKKM",
        "gather": {
          "logged": 1711906232305
        }
      }
    },
    {
      "cell_type": "code",
      "source": [
        "#Aiming to impute NaN values for the columns in accordance with their distribution\n",
        "diabetes_df_copy['Glucose'].fillna(diabetes_df_copy['Glucose'].mean(), inplace=True)\n",
        "diabetes_df_copy['BloodPressure'].fillna(diabetes_df_copy['BloodPressure'].mean(), inplace=True)\n",
        "diabetes_df_copy['SkinThickness'].fillna(diabetes_df_copy['SkinThickness'].mean(), inplace=True)\n",
        "diabetes_df_copy['Insulin'].fillna(diabetes_df_copy['Insulin'].mean(), inplace=True)\n",
        "diabetes_df_copy['BMI'].fillna(diabetes_df_copy['BMI'].mean(), inplace=True)"
      ],
      "outputs": [],
      "execution_count": null,
      "metadata": {
        "id": "HqPZKbNdOoKh",
        "gather": {
          "logged": 1711906233406
        }
      }
    },
    {
      "cell_type": "markdown",
      "source": [
        "Nun ist der Datensatz bereit zu verarbeiten."
      ],
      "metadata": {
        "id": "zSLsEglLxXxF"
      }
    },
    {
      "cell_type": "markdown",
      "source": [
        "## **Perform EDA (Exploratory Data Analysis )**"
      ],
      "metadata": {
        "id": "0F4XO9Y0xz6I"
      }
    },
    {
      "cell_type": "code",
      "source": [
        "#Checking the balance of the data by plotting the count of outcomes by their values\n",
        "color_wheel = {0: '#0392cf', 1: '#7bc043'}\n",
        "colors = diabetes_df[\"Outcome\"].map(lambda x: color_wheel.get(x))\n",
        "print(diabetes_df.Outcome.value_counts())\n",
        "p = diabetes_df.Outcome.value_counts().plot(kind=\"bar\", color = colors)"
      ],
      "outputs": [],
      "execution_count": null,
      "metadata": {
        "id": "A5QHxqFDx716",
        "gather": {
          "logged": 1711906234676
        }
      }
    },
    {
      "cell_type": "markdown",
      "source": [
        "The above graph shows that the data is biased towards datapoints having outcome value as 0 where it means that diabetes was not present actually. The number of non-diabetics is almost twice the number of diabetic patients."
      ],
      "metadata": {
        "id": "h0iij8XayE73"
      }
    },
    {
      "cell_type": "markdown",
      "source": [
        "Is my statement above correct?? i don't think so :( or correct??? 34% diabet, 66% no diabets"
      ],
      "metadata": {
        "id": "TFv7-cr8yF_l"
      }
    },
    {
      "cell_type": "markdown",
      "source": [
        "**HIER MUSS WIRKLICH BESCHRIEBEN WERDEN, DASS DAS EINEN EINFLUSS BEI DER GRAFIK BEI K NEIGHBOR HAT!!!!!!! ????????**\n",
        "\n",
        "Wenn ich noch mit KKN arbeiten würde :)"
      ],
      "metadata": {
        "id": "t7W4tDBDyIHC"
      }
    },
    {
      "cell_type": "code",
      "source": [
        "#Plotting the Pair Plots for the uncleaned data\n",
        "p = sns.pairplot(diabetes_df, hue= 'Outcome')"
      ],
      "outputs": [],
      "execution_count": null,
      "metadata": {
        "id": "11IZgNXRyRzL",
        "gather": {
          "logged": 1711906263751
        }
      }
    },
    {
      "cell_type": "code",
      "source": [
        "#Plotting the Pair Plots for the cleaned data\n",
        "p = sns.pairplot(diabetes_df_copy, hue= 'Outcome')"
      ],
      "outputs": [],
      "execution_count": null,
      "metadata": {
        "id": "JYGgv-IBylcY",
        "gather": {
          "logged": 1711906292747
        }
      }
    },
    {
      "cell_type": "markdown",
      "source": [
        "## **Correlation between all the features**"
      ],
      "metadata": {
        "id": "VVjUIcKSy7rW"
      }
    },
    {
      "cell_type": "code",
      "source": [
        "#Correlation between all the features before cleaning\n",
        "plt.figure(figsize= (12,10))\n",
        "p = sns.heatmap(diabetes_df.corr(), annot = True, cmap = 'RdYlGn')"
      ],
      "outputs": [],
      "execution_count": null,
      "metadata": {
        "id": "IJLTHKD1y8mE",
        "gather": {
          "logged": 1711906293214
        }
      }
    },
    {
      "cell_type": "code",
      "source": [
        "#Correlation between all the features after cleaning\n",
        "plt.figure(figsize= (12,10))\n",
        "p = sns.heatmap(diabetes_df_copy.corr(), annot = True, cmap = 'RdYlGn')"
      ],
      "outputs": [],
      "execution_count": null,
      "metadata": {
        "id": "MD_jmWmKy_6b",
        "gather": {
          "logged": 1711906293597
        }
      }
    },
    {
      "cell_type": "markdown",
      "source": [
        "HIER KANN MAN ERKENNEN, DASS DIE KORRELATION BETWENN FEATURES SICH ERHÖHEN, NACHDEM DER DATENSATZ BEREINIGHT WORDEN IST. Z.B GLUCOSE UND OUTCOME\n",
        "\n",
        "BEFORE : 0.46 AFTER : 0.49"
      ],
      "metadata": {
        "id": "RxxvjgZmzE23"
      }
    },
    {
      "cell_type": "markdown",
      "source": [
        "# **Feature Engineering**"
      ],
      "metadata": {
        "id": "z7gvffOILrQF"
      }
    },
    {
      "cell_type": "code",
      "source": [
        "from sklearn.tree import DecisionTreeClassifier\n",
        "from sklearn.model_selection import train_test_split"
      ],
      "outputs": [],
      "execution_count": null,
      "metadata": {
        "id": "fgaH6NVuMbkm",
        "gather": {
          "logged": 1711906293929
        }
      }
    },
    {
      "cell_type": "markdown",
      "source": [
        "Hier kann ich auch mit Preprocessing data tun. also mit StandardScaler. See the previous Code in other Colab."
      ],
      "metadata": {
        "id": "CTZGilV3OBKI"
      }
    },
    {
      "cell_type": "code",
      "source": [
        "X=diabetes_df_copy[diabetes_df_copy.columns[0:-1]]\n",
        "y=diabetes_df_copy[diabetes_df_copy.columns[-1]]"
      ],
      "outputs": [],
      "execution_count": null,
      "metadata": {
        "id": "7YRJoryINvCT",
        "gather": {
          "logged": 1711906294228
        }
      }
    },
    {
      "cell_type": "markdown",
      "source": [
        "## **Split the dataset**"
      ],
      "metadata": {
        "id": "LqgjMdgeNdDy"
      }
    },
    {
      "cell_type": "code",
      "source": [
        "X_train,X_test,y_train,y_test = train_test_split(X,y,stratify=y,random_state=42)"
      ],
      "outputs": [],
      "execution_count": null,
      "metadata": {
        "id": "LGtHE73-NX-H",
        "gather": {
          "logged": 1711906294493
        }
      }
    },
    {
      "cell_type": "markdown",
      "source": [
        "## **Ermittlung der Feature Importance mit einem Decision Tree**"
      ],
      "metadata": {
        "id": "2fsXFCj1SXXS"
      }
    },
    {
      "cell_type": "code",
      "source": [
        "tree = DecisionTreeClassifier(max_depth=4,random_state=0)\n",
        "tree.fit(X_train,y_train)\n",
        "print(\"Accuracy on training set: {:.3f}\".format(tree.score(X_train,y_train)))\n",
        "print(\"Accuracy on test set: {:.3f}\".format(tree.score(X_test,y_test)))"
      ],
      "outputs": [],
      "execution_count": null,
      "metadata": {
        "id": "Zzgw_dKrSfTu",
        "gather": {
          "logged": 1711906294799
        }
      }
    },
    {
      "cell_type": "code",
      "source": [
        "from sklearn.tree import export_graphviz\n",
        "export_graphviz(tree,out_file=\"diabetes_tree.dot\",class_names=[\"0\",\"1\"],\n",
        "feature_names=X.columns,impurity=False,filled=True)\n",
        "import graphviz\n",
        "with open(\"diabetes_tree.dot\") as f:\n",
        "    dot_graph = f.read()\n",
        "graphviz.Source(dot_graph)"
      ],
      "outputs": [],
      "execution_count": null,
      "metadata": {
        "id": "3INXxH7VQVif",
        "gather": {
          "logged": 1711906295095
        }
      }
    },
    {
      "cell_type": "code",
      "source": [
        "print(\"Feature importances:\\n{}\".format(tree.feature_importances_))"
      ],
      "outputs": [],
      "execution_count": null,
      "metadata": {
        "id": "ZAfJUtfhQjXE",
        "gather": {
          "logged": 1711906295361
        }
      }
    },
    {
      "cell_type": "code",
      "source": [
        "df_feature_importance = pd.DataFrame({'Feature Names': X.columns, 'Importance of  Feature': tree.feature_importances_ })\n",
        "df_feature_importance"
      ],
      "outputs": [],
      "execution_count": null,
      "metadata": {
        "id": "HmUpNotSQvPY",
        "gather": {
          "logged": 1711906295750
        }
      }
    },
    {
      "cell_type": "code",
      "source": [
        "def plot_feature_importances_adult_census(model):\n",
        "    n_features = X.shape[1]\n",
        "    plt.barh(range(n_features),model.feature_importances_,align='center')\n",
        "    plt.yticks(np.arange(n_features),X.columns)\n",
        "    plt.xlabel(\"Feature Importance\")\n",
        "    plt.ylabel(\"Feature\")\n",
        "    ##plt.show()\n",
        "    ##fig=plt.figure()\n",
        "    plt.savefig(\"feature_imporatnace_diabetes.png\")\n",
        "    plt.show()\n",
        "    plt.close()\n",
        "plot_feature_importances_adult_census(tree)"
      ],
      "outputs": [],
      "execution_count": null,
      "metadata": {
        "id": "dj_R-SwTRa7t",
        "gather": {
          "logged": 1711906296204
        }
      }
    },
    {
      "cell_type": "markdown",
      "source": [
        "Hier kann man erkennen, dass Feature \"Glucose\" und \"BMI\" Parameter sind, auf die geachtet werden müssen."
      ],
      "metadata": {
        "id": "qEuj71W1R55P"
      }
    },
    {
      "cell_type": "markdown",
      "source": [
        "## **Ermittlung der Feature Importance mit einem Random  (Zum Vergleich)**"
      ],
      "metadata": {
        "id": "jsOcwWZ_SpuX"
      }
    },
    {
      "cell_type": "code",
      "source": [
        "from sklearn.ensemble import RandomForestClassifier\n",
        "\n",
        "feature_names = [f\"feature {i}\" for i in range(X.shape[1])]\n",
        "forest = RandomForestClassifier(n_estimators=100,random_state=0)\n",
        "forest.fit(X_train, y_train)"
      ],
      "outputs": [],
      "execution_count": null,
      "metadata": {
        "id": "VHOB5TtaSqor",
        "gather": {
          "logged": 1711906296401
        }
      }
    },
    {
      "cell_type": "code",
      "source": [
        "print(forest.feature_importances_)"
      ],
      "outputs": [],
      "execution_count": null,
      "metadata": {
        "id": "d4f8I4apSzdl",
        "gather": {
          "logged": 1711906296745
        }
      }
    },
    {
      "cell_type": "code",
      "source": [
        "df_feature_importance_withRandomForest = pd.DataFrame({'Feature Names': X.columns, 'Importance of  Feature': forest.feature_importances_ })\n",
        "df_feature_importance_withRandomForest"
      ],
      "outputs": [],
      "execution_count": null,
      "metadata": {
        "id": "5MvgXphsVL35",
        "gather": {
          "logged": 1711906297175
        }
      }
    },
    {
      "cell_type": "code",
      "source": [
        "def plot_feature_importances_adult_census(model):\n",
        "    n_features = X.shape[1]\n",
        "    plt.barh(range(n_features),model.feature_importances_,align='center')\n",
        "    plt.yticks(np.arange(n_features),X.columns)\n",
        "    plt.xlabel(\"Feature Importance\")\n",
        "    plt.ylabel(\"Feature\")\n",
        "    ##plt.show()\n",
        "    ##fig=plt.figure()\n",
        "    plt.savefig(\"feature_imporatnace_diabetes_forest.png\")\n",
        "    plt.show()\n",
        "    plt.close()\n",
        "plot_feature_importances_adult_census(forest)"
      ],
      "outputs": [],
      "execution_count": null,
      "metadata": {
        "id": "2vokx48dTrdh",
        "gather": {
          "logged": 1711906297340
        }
      }
    },
    {
      "cell_type": "markdown",
      "source": [
        "# **Split des Datensatzes**"
      ],
      "metadata": {
        "id": "ORLKdlKwLtDi"
      }
    },
    {
      "cell_type": "code",
      "source": [
        "X_train,X_test,y_train,y_test = train_test_split(X,y,stratify=y,random_state=101, test_size=0.2)"
      ],
      "outputs": [],
      "execution_count": null,
      "metadata": {
        "id": "OQUkdbTIMcOF",
        "gather": {
          "logged": 1711906297704
        }
      }
    },
    {
      "cell_type": "markdown",
      "source": [
        "nach unten verschoben????"
      ],
      "metadata": {
        "id": "OI0rf4yWmVRh"
      }
    },
    {
      "cell_type": "markdown",
      "source": [
        "# **Auswahl der Metriken**"
      ],
      "metadata": {
        "id": "PqW0TVi9Lus2"
      }
    },
    {
      "cell_type": "markdown",
      "source": [
        "When working with imbalanced datasets (which is often the case in medical datasets like diabetes prediction), metrics like precision, recall, and AUC-ROC become particularly important as they provide insights into the model's performance beyond simple accuracy."
      ],
      "metadata": {
        "id": "BXMjQ6VphNiD"
      }
    },
    {
      "cell_type": "markdown",
      "source": [
        "Therefore, focusing on precision, recall, **F1 score**, and AUC-ROC will give you a more comprehensive understanding of your model's performance in this context."
      ],
      "metadata": {
        "id": "brZEso0RhjJ_"
      }
    },
    {
      "cell_type": "markdown",
      "source": [
        "If False Positives are Costly: Choose Precision. Precision measures the proportion of true positive predictions out of all positive predictions. If false positives are costly in your scenario (e.g., unnecessary treatments or interventions for individuals who don't have diabetes), then prioritize precision.\n",
        "\n",
        "If False Negatives are Costly: Choose Recall. Recall measures the proportion of true positive predictions out of all actual positive instances. If missing positive cases (false negatives) is more critical in your context (e.g., failing to diagnose individuals who actually have diabetes), then prioritize recall.\n",
        "\n",
        "If You Need a Balance: Choose the F1 Score. The F1 score is the harmonic mean of precision and recall, providing a balanced measure of both. It's useful when you want to balance the trade-off between false positives and false negatives."
      ],
      "metadata": {
        "id": "MmF41erEjn_e"
      }
    },
    {
      "cell_type": "markdown",
      "source": [
        "So F1-Score is better???"
      ],
      "metadata": {
        "id": "xYhbcA01jSc9"
      }
    },
    {
      "cell_type": "markdown",
      "source": [
        "# **Auswahl und Beschreibung der ML-Methode**"
      ],
      "metadata": {
        "id": "X6V92ejtL4Tw"
      }
    },
    {
      "cell_type": "markdown",
      "source": [
        "Methode that im gonna use is supervised learning.\n",
        "\n",
        "A Support Vector Machine (SVM) is a supervised machine learning algorithm used for classification and regression tasks. SVM is particularly well-suited for classification of complex datasets where there is clear margin of separation between classes.\n",
        "\n",
        "\n",
        "To have even better result we decided to go for pipelining and used the Support Vector Machine algorithm.\n",
        "\n",
        "The best score and parameter that we found were 0.75??? using Linear Kernel. The testing accuracy achieved was of 80.5%.???"
      ],
      "metadata": {
        "id": "OLEP0Gc8jqCQ"
      }
    },
    {
      "cell_type": "markdown",
      "source": [
        "# **Implementierung Training**"
      ],
      "metadata": {
        "id": "5z1PCwFfL6Xi"
      }
    },
    {
      "cell_type": "code",
      "source": [
        "from sklearn.linear_model import SGDClassifier\n",
        "ppn = SGDClassifier(loss='perceptron')\n",
        "lr = SGDClassifier(loss='log')\n",
        "svm = SGDClassifier(loss='hinge')"
      ],
      "outputs": [],
      "execution_count": null,
      "metadata": {
        "id": "1evsu3E1MdrB",
        "gather": {
          "logged": 1711906298123
        }
      }
    },
    {
      "cell_type": "markdown",
      "source": [
        "Overall, SGDClassifier is a versatile and efficient tool for training linear classifiers, particularly in situations where scalability and efficiency are essential, such as with large datasets or online learning scenarios."
      ],
      "metadata": {
        "id": "IEgIAmanloKJ"
      }
    },
    {
      "cell_type": "markdown",
      "source": [
        "Jetzt nehmen wir nur die zweibeste Features für die Training"
      ],
      "metadata": {
        "id": "Xrr_nfHTlsq0"
      }
    },
    {
      "cell_type": "code",
      "source": [
        "X = diabetes_df_copy[['Glucose','BMI']]\n",
        "y = diabetes_df_copy['Outcome']"
      ],
      "outputs": [],
      "execution_count": null,
      "metadata": {
        "id": "ZMYVlBf8lw9f",
        "gather": {
          "logged": 1711906298265
        }
      }
    },
    {
      "cell_type": "code",
      "source": [
        "X_train, X_test, y_train, y_test = train_test_split(X, y, test_size=0.2, random_state=101)"
      ],
      "outputs": [],
      "execution_count": null,
      "metadata": {
        "id": "FfI_X66sl_g6",
        "gather": {
          "logged": 1711906298711
        }
      }
    },
    {
      "cell_type": "code",
      "source": [
        "# To make Plotting\n",
        "\n",
        "#X_train = np.array(X_train)\n",
        "#y_train = np.array(y_train)\n",
        "#X_test = np.array(X_test)\n",
        "#y_test = np.array(y_test)"
      ],
      "outputs": [],
      "execution_count": null,
      "metadata": {
        "id": "5tB5NrS2l_dY",
        "gather": {
          "logged": 1711906298855
        }
      }
    },
    {
      "cell_type": "markdown",
      "source": [
        "### **Kernel --> General**"
      ],
      "metadata": {
        "id": "IRUdA1LmnQMz"
      }
    },
    {
      "cell_type": "code",
      "source": [
        "from sklearn import svm\n",
        "machine1 = svm.SVC()\n",
        "machine1.fit(X_train,y_train)\n",
        "y_pred1 = machine1.predict(X_test)"
      ],
      "outputs": [],
      "execution_count": null,
      "metadata": {
        "id": "I6x-gTaBmigX",
        "gather": {
          "logged": 1711906299194
        }
      }
    },
    {
      "cell_type": "code",
      "source": [
        "#plot_decision_regions(X_train, y_train, machine1)"
      ],
      "outputs": [],
      "execution_count": null,
      "metadata": {
        "id": "jXVbLhgJmi02",
        "gather": {
          "logged": 1711906299368
        }
      }
    },
    {
      "cell_type": "code",
      "source": [
        "from sklearn.metrics import classification_report, confusion_matrix, accuracy_score"
      ],
      "outputs": [],
      "execution_count": null,
      "metadata": {
        "id": "65vsTE2Nm_py",
        "gather": {
          "logged": 1711906299638
        }
      }
    },
    {
      "cell_type": "code",
      "source": [
        "print(classification_report(y_test, y_pred1))"
      ],
      "outputs": [],
      "execution_count": null,
      "metadata": {
        "id": "T1ZgAUxpdNBh",
        "gather": {
          "logged": 1711906300021
        }
      }
    },
    {
      "cell_type": "markdown",
      "source": [
        "# **Hyperparametertuning Verwendung ML Lifecycle Mgt im Code**"
      ],
      "metadata": {
        "id": "r48H7iPhL_Ib"
      }
    },
    {
      "cell_type": "markdown",
      "source": [
        "In dem Fall kommt Ml flow zum Einsatz"
      ],
      "metadata": {
        "id": "W1EIvPcRt4CE"
      }
    },
    {
      "cell_type": "code",
      "source": [
        "#!pip install mlflow\n",
        "#!pip install pyngrok"
      ],
      "outputs": [],
      "execution_count": null,
      "metadata": {
        "id": "w0Sy7FCBuImd",
        "gather": {
          "logged": 1711906300286
        }
      }
    },
    {
      "cell_type": "code",
      "source": [
        "#!mlflow"
      ],
      "outputs": [],
      "execution_count": null,
      "metadata": {
        "id": "5fbkubVRMeF3",
        "gather": {
          "logged": 1711906300686
        }
      }
    },
    {
      "cell_type": "code",
      "source": [
        "#import mlflow.sklearn\n",
        "from sklearn.model_selection import GridSearchCV\n",
        "from sklearn.model_selection import RandomizedSearchCV"
      ],
      "outputs": [],
      "execution_count": null,
      "metadata": {
        "id": "Dy69FHuSwuz0",
        "gather": {
          "logged": 1711906301001
        }
      }
    },
    {
      "cell_type": "code",
      "source": [
        "from sklearn.pipeline import Pipeline\n",
        "from sklearn.preprocessing import StandardScaler\n",
        "from sklearn.svm import SVC\n",
        "pipe_svc = Pipeline([('scl', StandardScaler()),('clf', SVC(random_state=1))])\n",
        "param_range = [0.0001, 0.001, 0.01, 0.1, 1.0, 10.0, 100.0]\n",
        "param_grid = [{'clf__C': param_range,'clf__kernel': ['linear']},{'clf__C': param_range,'clf__gamma': param_range,'clf__kernel': ['rbf']}]\n",
        "gs = GridSearchCV(estimator=pipe_svc,param_grid=param_grid,scoring='accuracy',cv=10,n_jobs=-1)\n",
        "gs = gs.fit(X_train, y_train)"
      ],
      "outputs": [],
      "execution_count": null,
      "metadata": {
        "id": "M3I0tPGHcSXd",
        "gather": {
          "logged": 1711907047224
        }
      }
    },
    {
      "cell_type": "markdown",
      "source": [
        "kernel : poly rausschmeißen??? then dauert nur 17 sec"
      ],
      "metadata": {
        "nteract": {
          "transient": {
            "deleting": false
          }
        },
        "id": "FI64gshmxOLf"
      }
    },
    {
      "cell_type": "code",
      "source": [
        "print(gs.best_score_)\n",
        "print(gs.best_params_)"
      ],
      "outputs": [],
      "execution_count": null,
      "metadata": {
        "jupyter": {
          "source_hidden": false,
          "outputs_hidden": false
        },
        "nteract": {
          "transient": {
            "deleting": false
          }
        },
        "gather": {
          "logged": 1711907144453
        },
        "id": "KLQUp8XxxOLf"
      }
    },
    {
      "cell_type": "code",
      "source": [
        "'''from sklearn.svm import SVC\n",
        "# Build model using grid search and cross fold validation\n",
        "parameters = {'C': [0.1, 1, 10, 100],\n",
        "              'kernel': ['linear', 'poly', 'rbf', 'sigmoid'],\n",
        "              'gamma': ['scale', 'auto']}\n",
        "metrics = ['f1', 'recall', 'precision', 'roc_auc', 'neg_log_loss', 'neg_brier_score',\n",
        "           'average_precision', 'balanced_accuracy']\n",
        "\n",
        "svm = SVC(random_state=0,probability=True)\n",
        "clf = GridSearchCV(svm, parameters, scoring=metrics, refit='f1')\n",
        "clf.fit(X_train,y_train)\n",
        "\n",
        "# Log artifacts to MLflow\n",
        "mlflow.sklearn.log_model(clf.best_estimator_, \"best model\")\n",
        "mlflow.log_metric('best score', clf.best_score_)\n",
        "for k in clf.best_params_.keys():\n",
        "    mlflow.log_param(k, clf.best_params_[k])\n",
        "print(\"Model saved in run %s\" % mlflow.active_run().info.run_uuid)'''"
      ],
      "outputs": [],
      "execution_count": null,
      "metadata": {
        "id": "VZ9IEGpn0Vwr",
        "gather": {
          "logged": 1711906313478
        }
      }
    },
    {
      "cell_type": "code",
      "source": [
        "'''from sklearn.svm import SVC\n",
        "\n",
        "# Build model using randomized search and cross-fold validation\n",
        "parameters = {'C': [0.1, 1, 10, 100],\n",
        "              'kernel': ['linear', 'poly', 'rbf', 'sigmoid'],\n",
        "              'gamma': ['scale', 'auto']}\n",
        "metrics = ['f1', 'recall', 'precision', 'roc_auc', 'neg_log_loss', 'neg_brier_score',\n",
        "           'average_precision', 'balanced_accuracy']\n",
        "\n",
        "svm = SVC(random_state=0, probability=True)\n",
        "clf = RandomizedSearchCV(svm, parameters, scoring=metrics, refit='f1', n_iter=10, random_state=0)\n",
        "clf.fit(X_train, y_train)\n",
        "\n",
        "# Log artifacts to MLflow\n",
        "mlflow.sklearn.log_model(clf.best_estimator_, \"best model\")\n",
        "mlflow.log_metric('best score', clf.best_score_)\n",
        "for k in clf.best_params_.keys():\n",
        "    mlflow.log_param(k, clf.best_params_[k])\n",
        "print(\"Model saved in run %s\" % mlflow.active_run().info.run_uuid)'''"
      ],
      "outputs": [],
      "execution_count": null,
      "metadata": {
        "id": "POh54HDCAVrX",
        "gather": {
          "logged": 1711906313598
        }
      }
    },
    {
      "cell_type": "code",
      "source": [
        "'''from pyngrok import ngrok\n",
        "\n",
        "ngrok.kill()\n",
        "\n",
        "NGROK_AUTH_TOKEN = \"2eMIaE6nA3kl4wBKRC2l5fiXQqj_2pbU9j8dNWagQCRKNtMNq\"\n",
        "ngrok.set_auth_token(NGROK_AUTH_TOKEN)\n",
        "\n",
        "ngrok_tunnel = ngrok.connect(addr=5000, proto=\"http\", bind_tls= True)\n",
        "print(\"Mflow Tracking UI:\", ngrok_tunnel.public_url)'''"
      ],
      "outputs": [],
      "execution_count": null,
      "metadata": {
        "id": "ObpXjDw-_vu0",
        "gather": {
          "logged": 1711906314196
        },
        "editable": false,
        "run_control": {
          "frozen": true
        }
      }
    },
    {
      "cell_type": "code",
      "source": [
        "'''!mlflow ui'''"
      ],
      "outputs": [],
      "execution_count": null,
      "metadata": {
        "id": "W_kFXM_L_tfS",
        "editable": false,
        "run_control": {
          "frozen": true
        }
      }
    },
    {
      "cell_type": "markdown",
      "source": [
        "# **Evaluation und Ergebnisdarstellung**"
      ],
      "metadata": {
        "id": "cJiyBqF0ME0c"
      }
    },
    {
      "cell_type": "code",
      "source": [
        "y_pred = gs.predict(X_test)\n",
        "\n",
        "print(classification_report(y_test, y_pred))"
      ],
      "outputs": [],
      "execution_count": null,
      "metadata": {
        "id": "RpfDMnNnMee_",
        "gather": {
          "logged": 1711907149568
        }
      }
    },
    {
      "cell_type": "markdown",
      "source": [
        "**DONE????**"
      ],
      "metadata": {
        "nteract": {
          "transient": {
            "deleting": false
          }
        },
        "id": "KUCNov1gxOLg"
      }
    },
    {
      "cell_type": "markdown",
      "source": [
        "# **Vorhersage-Demo**"
      ],
      "metadata": {
        "id": "o-EF2z1MMHDf"
      }
    },
    {
      "cell_type": "code",
      "source": [],
      "outputs": [],
      "execution_count": null,
      "metadata": {
        "id": "BH2Ahxx8Mey2"
      }
    }
  ],
  "metadata": {
    "colab": {
      "provenance": [],
      "include_colab_link": true
    },
    "kernelspec": {
      "name": "python310-sdkv2",
      "language": "python",
      "display_name": "Python 3.10 - SDK v2"
    },
    "language_info": {
      "name": "python",
      "version": "3.10.11",
      "mimetype": "text/x-python",
      "codemirror_mode": {
        "name": "ipython",
        "version": 3
      },
      "pygments_lexer": "ipython3",
      "nbconvert_exporter": "python",
      "file_extension": ".py"
    },
    "microsoft": {
      "ms_spell_check": {
        "ms_spell_check_language": "en"
      },
      "host": {
        "AzureML": {
          "notebookHasBeenCompleted": true
        }
      }
    },
    "kernel_info": {
      "name": "python310-sdkv2"
    },
    "nteract": {
      "version": "nteract-front-end@1.0.0"
    }
  },
  "nbformat": 4,
  "nbformat_minor": 0
}